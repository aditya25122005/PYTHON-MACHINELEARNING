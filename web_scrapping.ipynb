{
 "cells": [
  {
   "cell_type": "code",
   "execution_count": null,
   "id": "0d24bcc9",
   "metadata": {},
   "outputs": [
    {
     "data": {
      "text/plain": [
       "<Response [200]>"
      ]
     },
     "execution_count": 1,
     "metadata": {},
     "output_type": "execute_result"
    }
   ],
   "source": [
    "# Data: Text, audio/video, Numerical data, Tabular data, Images,signal\n",
    "\n",
    "#LLM -->Large Language Model  eg: chatGPT\n",
    "\n",
    "#Data : Numerical vs Categorical \n",
    "#       Ordinal Vs Nominal\n",
    "#       Qualitative vs Quantitative\n",
    "#       Discrete vs Continuous\n",
    "# \n",
    "# Data Sources:  1- Source from Yourself\n",
    "#                2- Kaggle, UCI, Govt Websites ... : Free\n",
    "#                                                  : Paid\n",
    "#                3- API's : Free, Paid (gives connectivity Program to Server)\n",
    "#                4- Web Scrapping: Scrap HTML pages(iterate to get data)\n",
    "\n",
    "# Data Engineering: ETL (Extract, Transform ,Load)\n",
    "# Extract Data using API's\n",
    "# Transform data according to needs\n",
    "# Load data in data set\n",
    "\n",
    "#API : Application Programming Interface\n",
    "\n",
    "# JSON: Key value Pair ; key always a string\n",
    "\n",
    "# Type of request\n",
    "# -GET  (get data from server)\n",
    "# -POST (post data to Server)\n",
    "# -DELETE\n",
    "# -PUT\n",
    "# -PATCH\n"
   ]
  },
  {
   "cell_type": "code",
   "execution_count": null,
   "id": "8637655d",
   "metadata": {},
   "outputs": [
    {
     "data": {
      "text/plain": [
       "<Response [200]>"
      ]
     },
     "execution_count": 2,
     "metadata": {},
     "output_type": "execute_result"
    }
   ],
   "source": [
    "import requests\n",
    "url='https://catfact.ninja/'\n",
    "res= requests.get('https://catfact.ninja/fact',params={'max_length':50,'limit':50})\n",
    "res\n"
   ]
  },
  {
   "cell_type": "code",
   "execution_count": 35,
   "id": "b013f4a7",
   "metadata": {},
   "outputs": [
    {
     "data": {
      "text/plain": [
       "{}"
      ]
     },
     "execution_count": 35,
     "metadata": {},
     "output_type": "execute_result"
    }
   ],
   "source": [
    "facts=res.json()\n",
    "facts"
   ]
  },
  {
   "cell_type": "code",
   "execution_count": 7,
   "id": "2cc7e611",
   "metadata": {},
   "outputs": [
    {
     "name": "stdout",
     "output_type": "stream",
     "text": [
      "{\"fact\":\"A happy cat holds her tail high and steady.\",\"length\":43} <class 'str'>\n"
     ]
    }
   ],
   "source": [
    "print(res.text,type(res.text))"
   ]
  },
  {
   "cell_type": "code",
   "execution_count": 6,
   "id": "8d29a427",
   "metadata": {},
   "outputs": [
    {
     "name": "stdout",
     "output_type": "stream",
     "text": [
      "<Response [200]>\n"
     ]
    }
   ],
   "source": [
    "print(res)"
   ]
  },
  {
   "cell_type": "code",
   "execution_count": 26,
   "id": "5a6dbed5",
   "metadata": {},
   "outputs": [
    {
     "data": {
      "text/plain": [
       "<Response [200]>"
      ]
     },
     "execution_count": 26,
     "metadata": {},
     "output_type": "execute_result"
    }
   ],
   "source": [
    "url='https://catfact.ninja/'\n",
    "# res=requests.get(url+'fact?max_length=50')\n",
    "res=requests.get(url+'fact', params={'max_length':5,'limit':50})\n",
    "res"
   ]
  },
  {
   "cell_type": "code",
   "execution_count": 22,
   "id": "6008034f",
   "metadata": {},
   "outputs": [
    {
     "name": "stdout",
     "output_type": "stream",
     "text": [
      "{\"fact\":\"Female felines are \\\\superfecund\",\"length\":31} <class 'str'>\n"
     ]
    }
   ],
   "source": [
    "print(res.text,type(res.text))"
   ]
  },
  {
   "cell_type": "code",
   "execution_count": 12,
   "id": "5fcf2816",
   "metadata": {},
   "outputs": [
    {
     "name": "stdout",
     "output_type": "stream",
     "text": [
      "{\"fact\":\"Blue-eyed, pure white cats are frequently deaf.\",\"length\":47}\n"
     ]
    }
   ],
   "source": [
    "print(res.text)"
   ]
  },
  {
   "cell_type": "code",
   "execution_count": 24,
   "id": "ae25d73a",
   "metadata": {},
   "outputs": [
    {
     "name": "stdout",
     "output_type": "stream",
     "text": [
      "{'fact': 'Female felines are \\\\superfecund', 'length': 31}\n"
     ]
    }
   ],
   "source": [
    "import json\n",
    "print(json.loads(res.text))"
   ]
  },
  {
   "cell_type": "code",
   "execution_count": null,
   "id": "afcafdf7",
   "metadata": {},
   "outputs": [
    {
     "name": "stdout",
     "output_type": "stream",
     "text": [
      "f{i},{fact['fact']}\n",
      "f{i},{fact['fact']}\n",
      "f{i},{fact['fact']}\n",
      "f{i},{fact['fact']}\n",
      "f{i},{fact['fact']}\n"
     ]
    }
   ],
   "source": [
    "import requests\n",
    "res=requests.get(\"https://catfact.ninja/facts?limit=5\")\n",
    "data = res.json()\n",
    "for i ,fact in enumerate(data[\"data\"],1):\n",
    "    print(\"f{i},{fact['fact']}\")"
   ]
  },
  {
   "cell_type": "code",
   "execution_count": 36,
   "id": "5e837536",
   "metadata": {},
   "outputs": [
    {
     "name": "stdout",
     "output_type": "stream",
     "text": [
      "4.12.3\n"
     ]
    }
   ],
   "source": [
    "import bs4\n",
    "print(bs4.__version__)"
   ]
  },
  {
   "cell_type": "code",
   "execution_count": 37,
   "id": "802987ae",
   "metadata": {},
   "outputs": [],
   "source": [
    "simple_html_obj = \"\"\"\n",
    "<html>\n",
    "    <head></head>\n",
    "    <body>\n",
    "        <div id = \"div1\">\n",
    "            <p id = 1>Hello</p>\n",
    "            <p id = 2>World</p>\n",
    "            <p id = 3 shub = cb>hello</p>\n",
    "        </div>\n",
    "        <div id = \"div2\">\n",
    "            <p id = 4 shub = cb>world</p>\n",
    "            <p id = 4>hello</p>\n",
    "        </div>\n",
    "    </body>\n",
    "</html>\n",
    "\"\"\"\n"
   ]
  },
  {
   "cell_type": "code",
   "execution_count": 46,
   "id": "a72f9939",
   "metadata": {},
   "outputs": [],
   "source": [
    "from bs4 import BeautifulSoup "
   ]
  },
  {
   "cell_type": "code",
   "execution_count": 47,
   "id": "6fc28fd5",
   "metadata": {},
   "outputs": [
    {
     "name": "stdout",
     "output_type": "stream",
     "text": [
      "{'#': '1', 'First Name': 'Mark', 'Last Name': 'Otto', 'Username': '@mdo'}\n",
      "{'#': '2', 'First Name': 'Jacob', 'Last Name': 'Thornton', 'Username': '@fat'}\n",
      "{'#': '3', 'First Name': 'Larry', 'Last Name': 'the Bird', 'Username': '@twitter'}\n"
     ]
    }
   ],
   "source": [
    "\n",
    "simple_html_obj = \"\"\"\n",
    "<table class=\"table table-bordered\">\n",
    "\t\t\t<thead>\n",
    "\t\t\t<tr>\n",
    "\t\t\t\t<th>#</th>\n",
    "\t\t\t\t<th>First Name</th>\n",
    "\t\t\t\t<th>Last Name</th>\n",
    "\t\t\t\t<th>Username</th>\n",
    "\t\t\t</tr>\n",
    "\t\t\t</thead>\n",
    "\t\t\t<tbody>\n",
    "\t\t\t<tr>\n",
    "\t\t\t\t<td>1</td>\n",
    "\t\t\t\t<td>Mark</td>\n",
    "\t\t\t\t<td>Otto</td>\n",
    "\t\t\t\t<td>@mdo</td>\n",
    "\t\t\t</tr>\n",
    "\t\t\t<tr>\n",
    "\t\t\t\t<td>2</td>\n",
    "\t\t\t\t<td>Jacob</td>\n",
    "\t\t\t\t<td>Thornton</td>\n",
    "\t\t\t\t<td>@fat</td>\n",
    "\t\t\t</tr>\n",
    "\t\t\t<tr>\n",
    "\t\t\t\t<td>3</td>\n",
    "\t\t\t\t<td>Larry</td>\n",
    "\t\t\t\t<td>the Bird</td>\n",
    "\t\t\t\t<td>@twitter</td>\n",
    "\t\t\t</tr>\n",
    "\t\t\t</tbody>\n",
    "\t\t</table>\n",
    "        \"\"\"\n",
    "\n",
    "soup = BeautifulSoup(simple_html_obj, \"html.parser\")\n",
    "\n",
    "\n",
    "headers = [th.text.strip() for th in soup.find_all(\"th\")]\n",
    "\n",
    "rows = []\n",
    "for tr in soup.find(\"tbody\").find_all(\"tr\"):\n",
    "    cells = [td.text.strip() for td in tr.find_all(\"td\")]\n",
    "    row_dict = dict(zip(headers, cells))\n",
    "    rows.append(row_dict)\n",
    "\n",
    "for row in rows:\n",
    "    print(row)"
   ]
  },
  {
   "cell_type": "code",
   "execution_count": null,
   "id": "2d29cd8d",
   "metadata": {},
   "outputs": [],
   "source": []
  }
 ],
 "metadata": {
  "kernelspec": {
   "display_name": "base",
   "language": "python",
   "name": "python3"
  },
  "language_info": {
   "codemirror_mode": {
    "name": "ipython",
    "version": 3
   },
   "file_extension": ".py",
   "mimetype": "text/x-python",
   "name": "python",
   "nbconvert_exporter": "python",
   "pygments_lexer": "ipython3",
   "version": "3.12.7"
  }
 },
 "nbformat": 4,
 "nbformat_minor": 5
}
