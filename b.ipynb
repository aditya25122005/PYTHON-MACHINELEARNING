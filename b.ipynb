{
 "cells": [
  {
   "cell_type": "code",
   "execution_count": 96,
   "id": "42ddc6c5",
   "metadata": {},
   "outputs": [
    {
     "name": "stdout",
     "output_type": "stream",
     "text": [
      "<__main__.Person object at 0x000001DC8C350920>\n"
     ]
    }
   ],
   "source": [
    "class Person:\n",
    "    pass\n",
    "p1=Person()\n",
    "print(p1)"
   ]
  },
  {
   "cell_type": "code",
   "execution_count": 97,
   "id": "f4fd7498",
   "metadata": {},
   "outputs": [],
   "source": [
    "p1.name='aditya'\n",
    "p1.age=20\n",
    "\n"
   ]
  },
  {
   "cell_type": "code",
   "execution_count": 98,
   "id": "9d7fc489",
   "metadata": {},
   "outputs": [
    {
     "name": "stdout",
     "output_type": "stream",
     "text": [
      "aditya\n",
      "20\n"
     ]
    }
   ],
   "source": [
    "print(p1.name)\n",
    "print(p1.age)"
   ]
  },
  {
   "cell_type": "code",
   "execution_count": 99,
   "id": "45675100",
   "metadata": {},
   "outputs": [],
   "source": [
    "class Animal:\n",
    "    def __init__(self,name,age):\n",
    "        self.name=name\n",
    "        self.age=age\n",
    "    def introduce(self):\n",
    "        print(self)\n",
    "        print(f\"Hi I am {self.name} and age is {self.age}\")"
   ]
  },
  {
   "cell_type": "code",
   "execution_count": 100,
   "id": "01877e17",
   "metadata": {},
   "outputs": [
    {
     "ename": "TypeError",
     "evalue": "Animal.__init__() missing 2 required positional arguments: 'name' and 'age'",
     "output_type": "error",
     "traceback": [
      "\u001b[1;31m---------------------------------------------------------------------------\u001b[0m",
      "\u001b[1;31mTypeError\u001b[0m                                 Traceback (most recent call last)",
      "Cell \u001b[1;32mIn[100], line 1\u001b[0m\n\u001b[1;32m----> 1\u001b[0m A1\u001b[38;5;241m=\u001b[39mAnimal()\n\u001b[0;32m      2\u001b[0m A1\u001b[38;5;241m.\u001b[39mname\u001b[38;5;241m=\u001b[39m\u001b[38;5;124m\"\u001b[39m\u001b[38;5;124mlion\u001b[39m\u001b[38;5;124m\"\u001b[39m\n\u001b[0;32m      3\u001b[0m A1\u001b[38;5;241m.\u001b[39mintroduce()\n",
      "\u001b[1;31mTypeError\u001b[0m: Animal.__init__() missing 2 required positional arguments: 'name' and 'age'"
     ]
    }
   ],
   "source": [
    "A1=Animal()\n",
    "A1.name=\"lion\"\n",
    "A1.introduce()"
   ]
  },
  {
   "cell_type": "code",
   "execution_count": null,
   "id": "0186fea7",
   "metadata": {},
   "outputs": [
    {
     "name": "stdout",
     "output_type": "stream",
     "text": [
      "<__main__.Animal object at 0x000001DC8C5DBAD0>\n",
      "Hi I am Elephant and age is -1\n"
     ]
    }
   ],
   "source": [
    "A2=Animal()\n",
    "A2.name='Elephant'\n",
    "A2.introduce()"
   ]
  },
  {
   "cell_type": "code",
   "execution_count": null,
   "id": "57bac18d",
   "metadata": {},
   "outputs": [
    {
     "data": {
      "text/plain": [
       "<function __main__.Animal.introduce(self)>"
      ]
     },
     "execution_count": 26,
     "metadata": {},
     "output_type": "execute_result"
    }
   ],
   "source": [
    "Animal.introduce"
   ]
  },
  {
   "cell_type": "code",
   "execution_count": null,
   "id": "c18eb20c",
   "metadata": {},
   "outputs": [
    {
     "name": "stdout",
     "output_type": "stream",
     "text": [
      "<__main__.Dog object at 0x000001DC8C5DA270>\n",
      "name is Tom and bar is bho bho\n",
      "<__main__.Dog object at 0x000001DC8C5D3CE0>\n",
      "name is Rockey and bar is Golden retriever\n"
     ]
    },
    {
     "data": {
      "text/plain": [
       "1"
      ]
     },
     "execution_count": 61,
     "metadata": {},
     "output_type": "execute_result"
    }
   ],
   "source": [
    "class Dog:\n",
    "    tail=1\n",
    "    tricks=[]\n",
    "  \n",
    "    def __init__(self,name,bark):\n",
    "        self.name=name\n",
    "        self.bark=bark\n",
    "    def introduce(self):\n",
    "        print(self)\n",
    "        print(f\"name is {self.name} and bar is {self.bark}\")\n",
    "D1=Dog(\"Tom\",\"bho bho\")\n",
    "D2=Dog(\"Rockey\",\"Golden retriever\")\n",
    "D1.introduce()\n",
    "D2.introduce()\n",
    "\n",
    "D1.tail"
   ]
  },
  {
   "cell_type": "code",
   "execution_count": null,
   "id": "6c05e89d",
   "metadata": {},
   "outputs": [
    {
     "name": "stdout",
     "output_type": "stream",
     "text": [
      "['Sit']\n",
      "['Sit', 'Stand', 'HandShake', 'Stand', 'HandShake', 'Stand', 'HandShake', 'Stand', 'HandShake', 'Stand', 'HandShake']\n"
     ]
    }
   ],
   "source": [
    "D1.tricks=[]\n",
    "D1.tricks.append(\"Sit\")\n",
    "D2.tricks.append(\"Stand\")\n",
    "Dog.tricks.append(\"HandShake\")\n",
    "print(D1.tricks)\n",
    "print(D2.tricks)"
   ]
  },
  {
   "cell_type": "code",
   "execution_count": null,
   "id": "51388bfd",
   "metadata": {},
   "outputs": [],
   "source": []
  },
  {
   "cell_type": "code",
   "execution_count": null,
   "id": "2dd56de3",
   "metadata": {},
   "outputs": [],
   "source": [
    "class person:\n",
    "    def __init__(self,name='xyz',age=-1):\n",
    "        self.name=name\n",
    "        self.age=age\n",
    "    def introduce(s):\n",
    "        print(f\"Hi I am {s.name} My age is {s.age}\")   \n",
    "class Student(person):\n",
    "\n",
    "    def __init__(self, name, age,rollNo):\n",
    "        super().__init__(name, age)\n",
    "        self.rollNo=rollNo\n",
    "    def introduce(self):\n",
    "        print(f\"Hi My name is {self.name}, age id {self.age} roll no is {self.rollNo}\")    \n",
    "\n",
    "             "
   ]
  },
  {
   "cell_type": "code",
   "execution_count": null,
   "id": "8e2f7bb3",
   "metadata": {},
   "outputs": [
    {
     "name": "stdout",
     "output_type": "stream",
     "text": [
      "Hi My name is Aditya, age id 19 roll no is 45\n"
     ]
    },
    {
     "data": {
      "text/plain": [
       "45"
      ]
     },
     "execution_count": 83,
     "metadata": {},
     "output_type": "execute_result"
    }
   ],
   "source": [
    "s1=Student('Aditya',19,45)\n",
    "s1.introduce()\n",
    "s1.rollNo"
   ]
  },
  {
   "cell_type": "code",
   "execution_count": null,
   "id": "9b60c7f2",
   "metadata": {},
   "outputs": [],
   "source": [
    "def fn(p):\n",
    "    p.introduce()"
   ]
  },
  {
   "cell_type": "code",
   "execution_count": 133,
   "id": "dbcdd8b1",
   "metadata": {},
   "outputs": [
    {
     "name": "stdout",
     "output_type": "stream",
     "text": [
      "False\n",
      "False\n",
      "model: Rolls Royce speed: 200 milage: 30\n"
     ]
    }
   ],
   "source": [
    "class Car:\n",
    "    def __init__(self,model,speed,milage):\n",
    "        self.model=model\n",
    "        self.speed=speed\n",
    "        self.milage=milage\n",
    "    def __len__(self):\n",
    "        print('In length dunder')    \n",
    "        return self.milage\n",
    "    def __add__(self,other):\n",
    "        newSpeed=max(self.speed,other.speed)\n",
    "        \n",
    "        return Car(self.model,newSpeed,self.milage)\n",
    "    def __gt__(self,other):\n",
    "        return self.speed>other.speed\n",
    "    def __str__(self):\n",
    "        return f\"model: {self.model} speed: {self.speed} milage: {self.milage}\"\n",
    "    \n",
    "c1=Car(\"Rolls Royce\",200,30)\n",
    "c2=Car(\"Defender\",200,40)\n",
    "c3=Car(\"Porche\",250,20)\n",
    "print(c1>c2)\n",
    "print(c2>c3)\n",
    "c3=c1+c2\n",
    "print(c3)    "
   ]
  },
  {
   "cell_type": "code",
   "execution_count": null,
   "id": "ebe17b17",
   "metadata": {},
   "outputs": [],
   "source": [
    "\n"
   ]
  },
  {
   "cell_type": "code",
   "execution_count": 109,
   "id": "b0a96def",
   "metadata": {},
   "outputs": [
    {
     "data": {
      "text/plain": [
       "[1, 2, 3, 4, 5, 6, 7, 8]"
      ]
     },
     "execution_count": 109,
     "metadata": {},
     "output_type": "execute_result"
    }
   ],
   "source": [
    "l1=[1,2,3,4]\n",
    "l2=[5,6,7,8]\n",
    "l3=l1+l2\n",
    "l3"
   ]
  },
  {
   "cell_type": "code",
   "execution_count": 134,
   "id": "a2a1ee3f",
   "metadata": {},
   "outputs": [],
   "source": [
    "class A:\n",
    "    pass\n",
    "class B(A):\n",
    "    pass"
   ]
  },
  {
   "cell_type": "code",
   "execution_count": null,
   "id": "684e4274",
   "metadata": {},
   "outputs": [],
   "source": []
  }
 ],
 "metadata": {
  "kernelspec": {
   "display_name": "base",
   "language": "python",
   "name": "python3"
  },
  "language_info": {
   "codemirror_mode": {
    "name": "ipython",
    "version": 3
   },
   "file_extension": ".py",
   "mimetype": "text/x-python",
   "name": "python",
   "nbconvert_exporter": "python",
   "pygments_lexer": "ipython3",
   "version": "3.12.7"
  }
 },
 "nbformat": 4,
 "nbformat_minor": 5
}
