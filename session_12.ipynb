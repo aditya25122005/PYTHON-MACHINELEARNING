{
 "cells": [
  {
   "cell_type": "code",
   "execution_count": 7,
   "id": "c5b864d8",
   "metadata": {},
   "outputs": [
    {
     "name": "stdout",
     "output_type": "stream",
     "text": [
      "1 - OPPO K13x 5G 6000mAh and 45W SUPERVOOC Charger & AI (Midnight Violet, 128 GB) - ₹12,999\n",
      "2 - Nokia 105 Single SIM, Keypad Mobile Phone with Wireless FM Radio - ₹989\n",
      "3 - POCO C71 (Cool Blue, 128 GB) - ₹6,999\n",
      "4 - REDMI A3X (Ocean Green, 64 GB) - ₹5,999\n",
      "5 - Nokia 105 Classic with Charger - ₹967\n",
      "6 - Infinix Note 50s 5G+ (Titanium Grey, 128 GB) - ₹14,999\n",
      "7 - REDMI A5 (Just Black, 64 GB) - ₹6,499\n",
      "8 - Nokia 105 Single SIM, Keypad Mobile Phone with Wireless FM Radio - ₹1,298\n",
      "9 - REDMI 13 5G (Orchid Pink, 128 GB) - ₹13,999\n",
      "10 - POCO M6 Plus 5G (Ice Silver, 128 GB) - ₹10,080\n",
      "11 - POCO C75 5G (Silver Stardust, 64 GB) - ₹7,699\n",
      "12 - POCO C75 5G (Enchanted Green, 128 GB) - ₹8,499\n",
      "13 - REDMI 13 5G (Orchid Pink, 128 GB) - ₹12,499\n",
      "14 - REDMI A5 (Jaisalmer Gold, 64 GB) - ₹6,499\n",
      "15 - Samsung Galaxy F05 (Twilight Blue, 64 GB) - ₹6,249\n",
      "16 - POCO M7 Pro 5G (Lunar Dust, 128 GB) - ₹12,999\n",
      "17 - POCO C75 5G (Enchanted Green, 64 GB) - ₹7,699\n",
      "18 - IQOO Z10X 5G (Titanium, 128 GB) - ₹13,790\n",
      "19 - Nokia 130 Music Dual Sim, Music Player, Wireless FM Radio and Dedicated Music Buttons - ₹1,599\n",
      "20 - Nokia 105 Classic without Charger - ₹966\n",
      "21 - POCO C75 5G (Aqua Bliss, 64 GB) - ₹7,699\n",
      "22 - Nokia 130 Music Dual Sim, Music Player, Wireless FM Radio and Dedicated Music Buttons - ₹1,589\n",
      "23 - POCO M6 Plus 5G (Graphite Black, 128 GB) - ₹10,080\n",
      "24 - REDMI A3X (Olive Green, 64 GB) - ₹5,999\n"
     ]
    }
   ],
   "source": [
    "import requests\n",
    "from bs4 import BeautifulSoup\n",
    "url = \"https://www.flipkart.com/search?q=mobile\"\n",
    "\n",
    "\n",
    "response = requests.get(url)\n",
    "soup = BeautifulSoup(response.text, \"html.parser\")\n",
    "\n",
    "names = soup.find_all(\"div\", class_=\"KzDlHZ\")\n",
    "prices = soup.find_all(\"div\", class_=\"Nx9bqj _4b5DiR\")\n",
    "i=1\n",
    "for name, price in zip(names, prices):\n",
    "    print(f\"{i} - {name.text.strip()} - {price.text.strip()}\")\n",
    "    i+=1"
   ]
  },
  {
   "cell_type": "code",
   "execution_count": 9,
   "id": "1ca97838",
   "metadata": {},
   "outputs": [
    {
     "name": "stdout",
     "output_type": "stream",
     "text": [
      "1 - URBANBOX - ₹12,999\n",
      "2 - JQR - ₹989\n",
      "3 - AJANTA - ₹6,999\n",
      "4 - SHOE BLATE - ₹5,999\n",
      "5 - CAMPUS - ₹967\n",
      "6 - Abros - ₹14,999\n",
      "7 - BB LAA - ₹6,499\n",
      "8 - U.S. POLO ASSN. - ₹1,298\n",
      "9 - Abros - ₹13,999\n",
      "10 - CAMPUS - ₹10,080\n",
      "11 - BERSACHE - ₹7,699\n",
      "12 - aadi - ₹8,499\n",
      "13 - REDTAPE - ₹12,499\n",
      "14 - CAMPUS - ₹6,499\n",
      "15 - snatch - ₹6,249\n",
      "16 - REDTAPE - ₹12,999\n",
      "17 - JQR - ₹7,699\n",
      "18 - NOBELITE - ₹13,790\n",
      "19 - BERSACHE - ₹1,599\n",
      "20 - Roadster - ₹966\n",
      "21 - JQR - ₹7,699\n",
      "22 - BERSACHE - ₹1,589\n",
      "23 - AJANTA - ₹10,080\n",
      "24 - action - ₹5,999\n"
     ]
    }
   ],
   "source": [
    "url=\"https://www.flipkart.com/search?q=shoes&otracker=search&otracker1=search&marketplace=FLIPKART&as-show=on&as=off\"\n",
    "response=requests.get(url)\n",
    "soup=BeautifulSoup(response.text,\"html.parser\")\n",
    "names=soup.find_all(\"div\",class_=\"syl9yP\")\n",
    "Price=soup.find_all(\"div\",class_=\"Nx9bqj\")\n",
    "i=1\n",
    "for name, price in zip(names, prices):\n",
    "    print(f\"{i} - {name.text.strip()} - {price.text.strip()}\")\n",
    "    i+=1"
   ]
  },
  {
   "cell_type": "code",
   "execution_count": 5,
   "id": "4e937a04",
   "metadata": {},
   "outputs": [
    {
     "data": {
      "text/plain": [
       "<Response [200]>"
      ]
     },
     "execution_count": 5,
     "metadata": {},
     "output_type": "execute_result"
    }
   ],
   "source": [
    "response"
   ]
  },
  {
   "cell_type": "code",
   "execution_count": null,
   "id": "ff90715c",
   "metadata": {},
   "outputs": [],
   "source": [
    "# Selenium\n",
    "#-- Can make automated bots\n",
    "#-- Like human behaves over a website --> Clicks buttons , login \n",
    "#Scrapping using BeautifulSoup and bot like thing using selenuim\n",
    "\n",
    "# Selenium works on browser (If I work on chrome then request will be sent through chrome)\n"
   ]
  },
  {
   "cell_type": "code",
   "execution_count": 2,
   "id": "ce4d1388",
   "metadata": {},
   "outputs": [
    {
     "name": "stdout",
     "output_type": "stream",
     "text": [
      "Collecting selenium\n",
      "  Using cached selenium-4.34.0-py3-none-any.whl.metadata (7.5 kB)\n",
      "Collecting webdriver-manager\n",
      "  Downloading webdriver_manager-4.0.2-py2.py3-none-any.whl.metadata (12 kB)\n",
      "Collecting urllib3~=2.4.0 (from urllib3[socks]~=2.4.0->selenium)\n",
      "  Using cached urllib3-2.4.0-py3-none-any.whl.metadata (6.5 kB)\n",
      "Collecting trio~=0.30.0 (from selenium)\n",
      "  Using cached trio-0.30.0-py3-none-any.whl.metadata (8.5 kB)\n",
      "Collecting trio-websocket~=0.12.2 (from selenium)\n",
      "  Using cached trio_websocket-0.12.2-py3-none-any.whl.metadata (5.1 kB)\n",
      "Requirement already satisfied: certifi>=2025.4.26 in c:\\users\\deepa\\anaconda3\\lib\\site-packages (from selenium) (2025.4.26)\n",
      "Collecting typing_extensions~=4.14.0 (from selenium)\n",
      "  Using cached typing_extensions-4.14.0-py3-none-any.whl.metadata (3.0 kB)\n",
      "Requirement already satisfied: websocket-client~=1.8.0 in c:\\users\\deepa\\anaconda3\\lib\\site-packages (from selenium) (1.8.0)\n",
      "Requirement already satisfied: requests in c:\\users\\deepa\\anaconda3\\lib\\site-packages (from webdriver-manager) (2.32.3)\n",
      "Requirement already satisfied: python-dotenv in c:\\users\\deepa\\anaconda3\\lib\\site-packages (from webdriver-manager) (0.21.0)\n",
      "Requirement already satisfied: packaging in c:\\users\\deepa\\anaconda3\\lib\\site-packages (from webdriver-manager) (24.1)\n",
      "Collecting attrs>=23.2.0 (from trio~=0.30.0->selenium)\n",
      "  Using cached attrs-25.3.0-py3-none-any.whl.metadata (10 kB)\n",
      "Requirement already satisfied: sortedcontainers in c:\\users\\deepa\\anaconda3\\lib\\site-packages (from trio~=0.30.0->selenium) (2.4.0)\n",
      "Requirement already satisfied: idna in c:\\users\\deepa\\anaconda3\\lib\\site-packages (from trio~=0.30.0->selenium) (3.7)\n",
      "Collecting outcome (from trio~=0.30.0->selenium)\n",
      "  Using cached outcome-1.3.0.post0-py2.py3-none-any.whl.metadata (2.6 kB)\n",
      "Requirement already satisfied: sniffio>=1.3.0 in c:\\users\\deepa\\anaconda3\\lib\\site-packages (from trio~=0.30.0->selenium) (1.3.0)\n",
      "Requirement already satisfied: cffi>=1.14 in c:\\users\\deepa\\anaconda3\\lib\\site-packages (from trio~=0.30.0->selenium) (1.17.1)\n",
      "Collecting wsproto>=0.14 (from trio-websocket~=0.12.2->selenium)\n",
      "  Using cached wsproto-1.2.0-py3-none-any.whl.metadata (5.6 kB)\n",
      "Requirement already satisfied: pysocks!=1.5.7,<2.0,>=1.5.6 in c:\\users\\deepa\\anaconda3\\lib\\site-packages (from urllib3[socks]~=2.4.0->selenium) (1.7.1)\n",
      "Requirement already satisfied: charset-normalizer<4,>=2 in c:\\users\\deepa\\anaconda3\\lib\\site-packages (from requests->webdriver-manager) (3.3.2)\n",
      "Requirement already satisfied: pycparser in c:\\users\\deepa\\anaconda3\\lib\\site-packages (from cffi>=1.14->trio~=0.30.0->selenium) (2.21)\n",
      "Requirement already satisfied: h11<1,>=0.9.0 in c:\\users\\deepa\\anaconda3\\lib\\site-packages (from wsproto>=0.14->trio-websocket~=0.12.2->selenium) (0.14.0)\n",
      "Using cached selenium-4.34.0-py3-none-any.whl (9.4 MB)\n",
      "Downloading webdriver_manager-4.0.2-py2.py3-none-any.whl (27 kB)\n",
      "Using cached trio-0.30.0-py3-none-any.whl (499 kB)\n",
      "Using cached trio_websocket-0.12.2-py3-none-any.whl (21 kB)\n",
      "Using cached typing_extensions-4.14.0-py3-none-any.whl (43 kB)\n",
      "Using cached urllib3-2.4.0-py3-none-any.whl (128 kB)\n",
      "Using cached attrs-25.3.0-py3-none-any.whl (63 kB)\n",
      "Using cached outcome-1.3.0.post0-py2.py3-none-any.whl (10 kB)\n",
      "Using cached wsproto-1.2.0-py3-none-any.whl (24 kB)\n",
      "Installing collected packages: wsproto, urllib3, typing_extensions, attrs, outcome, webdriver-manager, trio, trio-websocket, selenium\n",
      "  Attempting uninstall: urllib3\n",
      "    Found existing installation: urllib3 2.2.3\n",
      "    Uninstalling urllib3-2.2.3:\n",
      "      Successfully uninstalled urllib3-2.2.3\n",
      "  Attempting uninstall: typing_extensions\n",
      "    Found existing installation: typing_extensions 4.11.0\n",
      "    Uninstalling typing_extensions-4.11.0:\n",
      "      Successfully uninstalled typing_extensions-4.11.0\n",
      "  Attempting uninstall: attrs\n",
      "    Found existing installation: attrs 23.1.0\n",
      "    Uninstalling attrs-23.1.0:\n",
      "      Successfully uninstalled attrs-23.1.0\n",
      "Successfully installed attrs-25.3.0 outcome-1.3.0.post0 selenium-4.34.0 trio-0.30.0 trio-websocket-0.12.2 typing_extensions-4.14.0 urllib3-2.4.0 webdriver-manager-4.0.2 wsproto-1.2.0\n"
     ]
    }
   ],
   "source": [
    "!pip install selenium webdriver-manager\n"
   ]
  },
  {
   "cell_type": "code",
   "execution_count": null,
   "id": "05305708",
   "metadata": {},
   "outputs": [],
   "source": []
  },
  {
   "cell_type": "code",
   "execution_count": null,
   "id": "cd1e8228",
   "metadata": {},
   "outputs": [],
   "source": []
  }
 ],
 "metadata": {
  "kernelspec": {
   "display_name": "base",
   "language": "python",
   "name": "python3"
  },
  "language_info": {
   "codemirror_mode": {
    "name": "ipython",
    "version": 3
   },
   "file_extension": ".py",
   "mimetype": "text/x-python",
   "name": "python",
   "nbconvert_exporter": "python",
   "pygments_lexer": "ipython3",
   "version": "3.12.7"
  }
 },
 "nbformat": 4,
 "nbformat_minor": 5
}
