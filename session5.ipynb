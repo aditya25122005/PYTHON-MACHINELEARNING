{
 "cells": [
  {
   "cell_type": "code",
   "execution_count": null,
   "id": "8f3ba992",
   "metadata": {},
   "outputs": [],
   "source": []
  },
  {
   "cell_type": "code",
   "execution_count": 5,
   "id": "65eced86",
   "metadata": {},
   "outputs": [
    {
     "name": "stdout",
     "output_type": "stream",
     "text": [
      "name: Aditya Id: 123\n"
     ]
    }
   ],
   "source": [
    "class Main:\n",
    "    def __init__(self,name,id):\n",
    "        self.name=name\n",
    "        self.id=id\n",
    "\n",
    "    def introduce(self):\n",
    "        print(f\"name: {self.name} Id: {self.id}\")\n",
    "\n",
    "A1=Main(\"Aditya\",123)\n",
    "A1.introduce()\n",
    "    \n"
   ]
  },
  {
   "cell_type": "code",
   "execution_count": 6,
   "id": "5a49a73c",
   "metadata": {},
   "outputs": [
    {
     "ename": "ZeroDivisionError",
     "evalue": "division by zero",
     "output_type": "error",
     "traceback": [
      "\u001b[1;31m---------------------------------------------------------------------------\u001b[0m",
      "\u001b[1;31mZeroDivisionError\u001b[0m                         Traceback (most recent call last)",
      "Cell \u001b[1;32mIn[6], line 3\u001b[0m\n\u001b[0;32m      1\u001b[0m a\u001b[38;5;241m=\u001b[39m\u001b[38;5;241m10\u001b[39m\n\u001b[0;32m      2\u001b[0m b\u001b[38;5;241m=\u001b[39m\u001b[38;5;241m0\u001b[39m\n\u001b[1;32m----> 3\u001b[0m \u001b[38;5;28mprint\u001b[39m(a\u001b[38;5;241m/\u001b[39mb)\n",
      "\u001b[1;31mZeroDivisionError\u001b[0m: division by zero"
     ]
    }
   ],
   "source": [
    "a=10\n",
    "b=0\n",
    "print(a/b)"
   ]
  },
  {
   "cell_type": "code",
   "execution_count": null,
   "id": "324adc4c",
   "metadata": {},
   "outputs": [
    {
     "name": "stdout",
     "output_type": "stream",
     "text": [
      "{'name': 'Aditya'}\n"
     ]
    }
   ],
   "source": [
    "dict={\n",
    "    \"name\":\"Aditya\"\n",
    "}\n",
    "print(dict)\n",
    "# print(dict[\"naame\"])  #Key Error\n",
    "\n",
    "\n"
   ]
  },
  {
   "cell_type": "code",
   "execution_count": 18,
   "id": "d5a55bd4",
   "metadata": {},
   "outputs": [
    {
     "name": "stdout",
     "output_type": "stream",
     "text": [
      "0.5\n",
      "1\n",
      "Wrong Input B\n",
      "2\n",
      "1.0\n",
      "3\n",
      "1.0\n",
      "4\n",
      "Wrong Input\n",
      "5\n"
     ]
    }
   ],
   "source": [
    "i=1\n",
    "while i<=5:\n",
    "    try:\n",
    "        a=int(input(\"a=:\"))\n",
    "        b=int(input(\"b=:\"))\n",
    "        print(a/b)\n",
    "    except ValueError:\n",
    "        print(\"Wrong Input\")\n",
    "    except ZeroDivisionError:\n",
    "        print(\"Wrong Input B\")    \n",
    "\n",
    "    print(i)\n",
    "    i+=1        "
   ]
  },
  {
   "cell_type": "code",
   "execution_count": null,
   "id": "9844eb6f",
   "metadata": {},
   "outputs": [
    {
     "name": "stdout",
     "output_type": "stream",
     "text": [
      "Out fn\n",
      "In fn\n"
     ]
    },
    {
     "data": {
      "text/plain": [
       "0.5"
      ]
     },
     "execution_count": 20,
     "metadata": {},
     "output_type": "execute_result"
    }
   ],
   "source": [
    "def fn(a,b):\n",
    "    print(\"In fn\")\n",
    "    if b!=0:\n",
    "        return a/b\n",
    "    else:\n",
    "        raise Exception('b should not be zero')\n",
    "\n",
    "fn(10,20)"
   ]
  },
  {
   "cell_type": "code",
   "execution_count": null,
   "id": "0a49d1fa",
   "metadata": {},
   "outputs": [],
   "source": [
    "#Module\n",
    "'''\n",
    "import math\n",
    "module--> pehle se bana hua code\n",
    "files , folders\n",
    "\n",
    "\n",
    "'''"
   ]
  },
  {
   "cell_type": "code",
   "execution_count": null,
   "id": "5d865054",
   "metadata": {},
   "outputs": [
    {
     "name": "stdout",
     "output_type": "stream",
     "text": [
      "10\n"
     ]
    }
   ],
   "source": [
    "# import script\n",
    "\n",
    "from script import A\n",
    "from script import fn\n",
    "fn()\n",
    "A()\n",
    "from script import a\n",
    "print(a)\n"
   ]
  },
  {
   "cell_type": "code",
   "execution_count": 1,
   "id": "5a9beb8a",
   "metadata": {},
   "outputs": [
    {
     "name": "stdout",
     "output_type": "stream",
     "text": [
      "hello Welcome to My module\n"
     ]
    }
   ],
   "source": [
    "from script import *\n",
    "\n"
   ]
  },
  {
   "cell_type": "markdown",
   "id": "b14be205",
   "metadata": {},
   "source": []
  },
  {
   "cell_type": "code",
   "execution_count": 1,
   "id": "32acee3e",
   "metadata": {},
   "outputs": [
    {
     "name": "stdout",
     "output_type": "stream",
     "text": [
      "<_io.TextIOWrapper name='test.txt' mode='r' encoding='utf-8'>\n",
      "Hello World\n",
      "This is  a Dummy File\n",
      "\n"
     ]
    }
   ],
   "source": [
    "#What is file\n",
    "file=open('test.txt')\n",
    "print(file)\n",
    "print(file.read())"
   ]
  },
  {
   "cell_type": "code",
   "execution_count": 3,
   "id": "3d6c2560",
   "metadata": {},
   "outputs": [
    {
     "data": {
      "text/plain": [
       "0"
      ]
     },
     "execution_count": 3,
     "metadata": {},
     "output_type": "execute_result"
    }
   ],
   "source": [
    "file.seek(0)"
   ]
  },
  {
   "cell_type": "code",
   "execution_count": 13,
   "id": "2f8394be",
   "metadata": {},
   "outputs": [
    {
     "name": "stdout",
     "output_type": "stream",
     "text": [
      "lo World\n",
      "This is  a Dum\n"
     ]
    }
   ],
   "source": [
    "file.seek(3)\n",
    "print(file.read(23))"
   ]
  },
  {
   "cell_type": "code",
   "execution_count": 17,
   "id": "a0e844f4",
   "metadata": {},
   "outputs": [
    {
     "name": "stdout",
     "output_type": "stream",
     "text": [
      "Hello World\n",
      "\n",
      "This is  a Dummy File\n",
      "\n"
     ]
    }
   ],
   "source": [
    "file.seek(0)\n",
    "for line in file.readlines():\n",
    "    print(line)"
   ]
  },
  {
   "cell_type": "code",
   "execution_count": null,
   "id": "80852398",
   "metadata": {},
   "outputs": [
    {
     "name": "stdout",
     "output_type": "stream",
     "text": [
      "This is  a Dummy File\n",
      "\n"
     ]
    }
   ],
   "source": [
    "file.seek(0)\n",
    "while line in file:\n",
    "    print(line)\n",
    "    "
   ]
  },
  {
   "cell_type": "code",
   "execution_count": 24,
   "id": "f14af5e1",
   "metadata": {},
   "outputs": [],
   "source": [
    "file.close()\n",
    "file=open('test.txt','r+')\n",
    "\n"
   ]
  },
  {
   "cell_type": "code",
   "execution_count": null,
   "id": "a03a5494",
   "metadata": {},
   "outputs": [
    {
     "ename": "NameError",
     "evalue": "name 'file' is not defined",
     "output_type": "error",
     "traceback": [
      "\u001b[1;31m---------------------------------------------------------------------------\u001b[0m",
      "\u001b[1;31mNameError\u001b[0m                                 Traceback (most recent call last)",
      "Cell \u001b[1;32mIn[1], line 1\u001b[0m\n\u001b[1;32m----> 1\u001b[0m file\u001b[38;5;241m.\u001b[39mwrite(\u001b[38;5;124m\"\u001b[39m\u001b[38;5;124mHello World\u001b[39m\u001b[38;5;124m\"\u001b[39m)\n\u001b[0;32m      2\u001b[0m \u001b[38;5;28mprint\u001b[39m(file\u001b[38;5;241m.\u001b[39mread())\n",
      "\u001b[1;31mNameError\u001b[0m: name 'file' is not defined"
     ]
    }
   ],
   "source": [
    "\n"
   ]
  },
  {
   "cell_type": "code",
   "execution_count": 11,
   "id": "841fa13f",
   "metadata": {},
   "outputs": [
    {
     "name": "stdout",
     "output_type": "stream",
     "text": [
      "this is sentence 1\n",
      "this is sentence 2\n",
      "this is sentence 3\n",
      "this is sentence 4\n",
      "\n",
      "this is sentence 10\n",
      "this is sentence 20\n",
      "this is sentence 30\n",
      "this is sentence 40\n"
     ]
    }
   ],
   "source": [
    "sentences = [\n",
    "    \"this is sentence 1\",\n",
    "    \"this is sentence 2\",\n",
    "    \"this is sentence 3\",\n",
    "    \"this is sentence 4\"\n",
    "]\n",
    "\n",
    "with open(\"question.txt\",\"w\") as file:\n",
    "    for sentence in sentences:\n",
    "        file.write(sentence+\"\\n\")\n",
    "\n",
    "with open(\"question.txt\", \"r\") as file:\n",
    "    content = file.read()\n",
    "    print(content)     \n",
    "\n",
    "with open(\"question.txt\",\"r\") as file:\n",
    "    lines=[line.strip()+\"0\" for line in file]    \n",
    "\n",
    "with open(\"question.txt\",\"w\") as file:\n",
    "    file.write(\"\\n\".join(lines))    \n",
    "\n",
    "with open(\"question.txt\", \"r\") as file:\n",
    "    content = file.read()\n",
    "    print(content)            "
   ]
  },
  {
   "cell_type": "code",
   "execution_count": null,
   "id": "0116a0c4",
   "metadata": {},
   "outputs": [],
   "source": []
  }
 ],
 "metadata": {
  "kernelspec": {
   "display_name": "base",
   "language": "python",
   "name": "python3"
  },
  "language_info": {
   "codemirror_mode": {
    "name": "ipython",
    "version": 3
   },
   "file_extension": ".py",
   "mimetype": "text/x-python",
   "name": "python",
   "nbconvert_exporter": "python",
   "pygments_lexer": "ipython3",
   "version": "3.12.7"
  }
 },
 "nbformat": 4,
 "nbformat_minor": 5
}
